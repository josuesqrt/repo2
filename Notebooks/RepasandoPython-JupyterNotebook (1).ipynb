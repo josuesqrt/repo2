{
 "cells": [
  {
   "cell_type": "code",
   "execution_count": null,
   "metadata": {
    "colab": {},
    "colab_type": "code",
    "id": "S8p5h-tuBNpY"
   },
   "outputs": [],
   "source": [
    "### Insertando código Python"
   ]
  },
  {
   "cell_type": "code",
   "execution_count": 10,
   "metadata": {
    "colab": {
     "base_uri": "https://localhost:8080/",
     "height": 34
    },
    "colab_type": "code",
    "executionInfo": {
     "elapsed": 481,
     "status": "ok",
     "timestamp": 1595014817548,
     "user": {
      "displayName": "Ana Cecilia Vargas Paredes",
      "photoUrl": "https://lh3.googleusercontent.com/a-/AOh14GjPv_-ryavawgxIVuCxtmjoaetzvQEWuB3vEsgF5Q=s64",
      "userId": "13533717859936293059"
     },
     "user_tz": 300
    },
    "id": "Y0pOgRJL6vCf",
    "outputId": "64ad15aa-404a-46ab-dec8-f49fe7344bc7"
   },
   "outputs": [
    {
     "name": "stdout",
     "output_type": "stream",
     "text": [
      "12.5\n"
     ]
    }
   ],
   "source": [
    "x = 10\n",
    "y = 15\n",
    "prom = (x+y)/2\n",
    "print (prom)"
   ]
  },
  {
   "cell_type": "code",
   "execution_count": 3,
   "metadata": {
    "colab": {
     "base_uri": "https://localhost:8080/",
     "height": 204
    },
    "colab_type": "code",
    "executionInfo": {
     "elapsed": 537,
     "status": "ok",
     "timestamp": 1595016536698,
     "user": {
      "displayName": "Ana Cecilia Vargas Paredes",
      "photoUrl": "https://lh3.googleusercontent.com/a-/AOh14GjPv_-ryavawgxIVuCxtmjoaetzvQEWuB3vEsgF5Q=s64",
      "userId": "13533717859936293059"
     },
     "user_tz": 300
    },
    "id": "-jgmE1cpFJ1Y",
    "outputId": "0ce85659-12c7-4bbc-938d-6a20bb96e7b0"
   },
   "outputs": [
    {
     "name": "stdout",
     "output_type": "stream",
     "text": [
      "<class 'list'>\n",
      "3\n",
      "[5.2, 5.8, 5.9]\n",
      "[5.2, 5.8, 5.9, 10.9]\n",
      "[]\n",
      "0\n",
      "[5.2, 5.8, 5.9, 15.6, 8.975]\n",
      "[5.2, 5.8, 5.9, 15.6, 8.975]\n",
      "2372709761728\n",
      "2372709472832\n",
      "2372709472832\n",
      "[5.2, 5.8, 5.9, 15.6, 8.975, 2, 3, 6, [2, 3, 6]]\n"
     ]
    }
   ],
   "source": [
    "### Trabajando con listas\n",
    "A = [5.2,5.8,5.9]\n",
    "## Recordemos funciones para trabajar listas\n",
    "print(type(A))\n",
    "print(len(A))\n",
    "print(A)\n",
    "A.append(10.9)\n",
    "print(A)\n",
    "A.clear()\n",
    "print(A)\n",
    "print(len(A))\n",
    "A = [5.2,5.8,5.9,15.6,8.975]\n",
    "A.count(5.2)\n",
    "B=A.copy()\n",
    "print(A)\n",
    "print(B)\n",
    "print(id(B))\n",
    "print(id(A))\n",
    "C=[2,3,6]\n",
    "A.extend(C)\n",
    "print(id(A))\n",
    "id(5)\n",
    "A.append(C)\n",
    "print(A)\n"
   ]
  },
  {
   "cell_type": "code",
   "execution_count": 35,
   "metadata": {
    "colab": {
     "base_uri": "https://localhost:8080/",
     "height": 85
    },
    "colab_type": "code",
    "executionInfo": {
     "elapsed": 491,
     "status": "ok",
     "timestamp": 1595018042912,
     "user": {
      "displayName": "Ana Cecilia Vargas Paredes",
      "photoUrl": "https://lh3.googleusercontent.com/a-/AOh14GjPv_-ryavawgxIVuCxtmjoaetzvQEWuB3vEsgF5Q=s64",
      "userId": "13533717859936293059"
     },
     "user_tz": 300
    },
    "id": "HBOZWza1dDx8",
    "outputId": "cbf45fc7-522c-4a62-b301-80056e50e241"
   },
   "outputs": [
    {
     "name": "stdout",
     "output_type": "stream",
     "text": [
      "3\n",
      "[5.2, 5.8, 5.9, 15.6]\n",
      "[15.6, 5.9, 5.8, 5.2]\n"
     ]
    },
    {
     "data": {
      "text/plain": [
       "[5.2, 5.8, 5.9, 15.6]"
      ]
     },
     "execution_count": 35,
     "metadata": {
      "tags": []
     },
     "output_type": "execute_result"
    }
   ],
   "source": [
    "A = [5.2,5.8,5.9,15.6,8.975]\n",
    "print(A.index(15.6))\n",
    "A.index(5.2)\n",
    "A.insert(3,10)\n",
    "A.pop()\n",
    "A.remove(10)\n",
    "print(A)\n",
    "A.reverse()\n",
    "print(A)\n",
    "A.sort()\n",
    "A\n"
   ]
  },
  {
   "cell_type": "code",
   "execution_count": 5,
   "metadata": {
    "colab": {
     "base_uri": "https://localhost:8080/",
     "height": 136
    },
    "colab_type": "code",
    "executionInfo": {
     "elapsed": 542,
     "status": "ok",
     "timestamp": 1595017004684,
     "user": {
      "displayName": "Ana Cecilia Vargas Paredes",
      "photoUrl": "https://lh3.googleusercontent.com/a-/AOh14GjPv_-ryavawgxIVuCxtmjoaetzvQEWuB3vEsgF5Q=s64",
      "userId": "13533717859936293059"
     },
     "user_tz": 300
    },
    "id": "LguG-dCOZ7wv",
    "outputId": "3d913f23-812e-4f24-a8f2-dfd7899c0d25"
   },
   "outputs": [
    {
     "name": "stdout",
     "output_type": "stream",
     "text": [
      "140705056631352\n",
      "140705056631512\n",
      "2372709595264\n",
      "5\n",
      "10\n",
      "140705056631352\n",
      "140705056631512\n"
     ]
    }
   ],
   "source": [
    "print(id(5))\n",
    "print(id(10))\n",
    "A=[5,10]\n",
    "print(id(A))\n",
    "print(A[0])\n",
    "print(A[1])\n",
    "print(id(A[0]))\n",
    "print(id(A[1]))                                                                        "
   ]
  },
  {
   "cell_type": "code",
   "execution_count": 6,
   "metadata": {
    "colab": {
     "base_uri": "https://localhost:8080/",
     "height": 51
    },
    "colab_type": "code",
    "executionInfo": {
     "elapsed": 441,
     "status": "ok",
     "timestamp": 1595018178320,
     "user": {
      "displayName": "Ana Cecilia Vargas Paredes",
      "photoUrl": "https://lh3.googleusercontent.com/a-/AOh14GjPv_-ryavawgxIVuCxtmjoaetzvQEWuB3vEsgF5Q=s64",
      "userId": "13533717859936293059"
     },
     "user_tz": 300
    },
    "id": "K-6XT4c0Kfui",
    "outputId": "d9ae5b29-96a1-4157-92d7-2fb43b302ab3"
   },
   "outputs": [
    {
     "name": "stdout",
     "output_type": "stream",
     "text": [
      "[5, 10]\n",
      "15\n"
     ]
    }
   ],
   "source": [
    "print(A)\n",
    "## i  es un elemento de la lista\n",
    "s = 0\n",
    "for i in A:\n",
    "    s = s+ i                               \n",
    "print(s)    "
   ]
  },
  {
   "cell_type": "code",
   "execution_count": 7,
   "metadata": {
    "colab": {
     "base_uri": "https://localhost:8080/",
     "height": 231
    },
    "colab_type": "code",
    "executionInfo": {
     "elapsed": 466,
     "status": "error",
     "timestamp": 1595018474330,
     "user": {
      "displayName": "Ana Cecilia Vargas Paredes",
      "photoUrl": "https://lh3.googleusercontent.com/a-/AOh14GjPv_-ryavawgxIVuCxtmjoaetzvQEWuB3vEsgF5Q=s64",
      "userId": "13533717859936293059"
     },
     "user_tz": 300
    },
    "id": "ounmcY6gftY-",
    "outputId": "e2b87013-538b-4ff8-9fd1-95e9fa9f9f94"
   },
   "outputs": [
    {
     "name": "stdout",
     "output_type": "stream",
     "text": [
      "15\n"
     ]
    },
    {
     "data": {
      "text/plain": [
       "[5, 10, 'hola']"
      ]
     },
     "execution_count": 7,
     "metadata": {},
     "output_type": "execute_result"
    }
   ],
   "source": [
    "## i es el index de la lista\n",
    "\n",
    "S=0\n",
    "for i in range(len(A)):\n",
    "  S = S + A[i]\n",
    "print(S)\n",
    "\n",
    "type(A)\n",
    "A.extend([\"hola\"])\n",
    "A"
   ]
  },
  {
   "cell_type": "code",
   "execution_count": null,
   "metadata": {
    "colab": {},
    "colab_type": "code",
    "id": "l8ua3WB2gupN"
   },
   "outputs": [],
   "source": []
  },
  {
   "cell_type": "code",
   "execution_count": 8,
   "metadata": {
    "colab": {
     "base_uri": "https://localhost:8080/",
     "height": 34
    },
    "colab_type": "code",
    "executionInfo": {
     "elapsed": 436,
     "status": "ok",
     "timestamp": 1595018531878,
     "user": {
      "displayName": "Ana Cecilia Vargas Paredes",
      "photoUrl": "https://lh3.googleusercontent.com/a-/AOh14GjPv_-ryavawgxIVuCxtmjoaetzvQEWuB3vEsgF5Q=s64",
      "userId": "13533717859936293059"
     },
     "user_tz": 300
    },
    "id": "N-LzsZ9dgzzN",
    "outputId": "917bc2c5-4aa7-49da-c680-a3d5b1dde5b7"
   },
   "outputs": [
    {
     "data": {
      "text/plain": [
       "[5, 10, 'hola', 'hola']"
      ]
     },
     "execution_count": 8,
     "metadata": {},
     "output_type": "execute_result"
    }
   ],
   "source": [
    "type(A)\n",
    "A.extend([\"hola\"])\n",
    "A"
   ]
  },
  {
   "cell_type": "code",
   "execution_count": 10,
   "metadata": {
    "colab": {
     "base_uri": "https://localhost:8080/",
     "height": 221
    },
    "colab_type": "code",
    "executionInfo": {
     "elapsed": 450,
     "status": "ok",
     "timestamp": 1595019199479,
     "user": {
      "displayName": "Ana Cecilia Vargas Paredes",
      "photoUrl": "https://lh3.googleusercontent.com/a-/AOh14GjPv_-ryavawgxIVuCxtmjoaetzvQEWuB3vEsgF5Q=s64",
      "userId": "13533717859936293059"
     },
     "user_tz": 300
    },
    "id": "-5yUCaK8Kfun",
    "outputId": "a8129e48-a614-4096-ff24-66d2dcad8560"
   },
   "outputs": [
    {
     "name": "stdout",
     "output_type": "stream",
     "text": [
      "[5.2 5.8 5.9]\n",
      "16.9\n",
      "5.633333333333333\n",
      "0.09555555555555555\n",
      "[[1 2 3]\n",
      " [4 5 6]]\n",
      "2.0\n",
      "[2. 5.]\n",
      "[2.5 3.5 4.5]\n",
      "[2. 5.]\n",
      "[2.5 3.5 4.5]\n",
      "2.5\n"
     ]
    }
   ],
   "source": [
    "###importando librerías:\n",
    "import numpy as np\n",
    "\n",
    "A = [5.2,5.8,5.9]\n",
    "Ar = np.array(A)\n",
    "print(Ar)\n",
    "print(sum(Ar))\n",
    "media = np.mean(Ar)\n",
    "print(media)\n",
    "varianza = np.var(Ar)\n",
    "print(varianza)\n",
    "B = np.array([[1, 2, 3], [4, 5, 6]])\n",
    "print(B)\n",
    "print(np.mean(B[0]))\n",
    "print(np.mean(B,axis=1))\n",
    "\n",
    "print(np.mean(B,axis=0))\n",
    "print(B.mean(axis=1))\n",
    "print(B.mean(axis=0))\n",
    "print(B[:,0].mean())                        "
   ]
  },
  {
   "cell_type": "code",
   "execution_count": 47,
   "metadata": {
    "colab": {
     "base_uri": "https://localhost:8080/",
     "height": 51
    },
    "colab_type": "code",
    "executionInfo": {
     "elapsed": 425,
     "status": "ok",
     "timestamp": 1595018749057,
     "user": {
      "displayName": "Ana Cecilia Vargas Paredes",
      "photoUrl": "https://lh3.googleusercontent.com/a-/AOh14GjPv_-ryavawgxIVuCxtmjoaetzvQEWuB3vEsgF5Q=s64",
      "userId": "13533717859936293059"
     },
     "user_tz": 300
    },
    "id": "SvO2iXGphh6u",
    "outputId": "ab1d15c4-8a71-4fc5-ca3c-3dff5ed78ab1"
   },
   "outputs": [
    {
     "name": "stdout",
     "output_type": "stream",
     "text": [
      "['5.2' '5.8' '5.9' '15.6' 'h' 'o' 'l' 'a' 'hola']\n"
     ]
    },
    {
     "data": {
      "text/plain": [
       "numpy.ndarray"
      ]
     },
     "execution_count": 47,
     "metadata": {
      "tags": []
     },
     "output_type": "execute_result"
    }
   ],
   "source": [
    "###importando librerías:\n",
    "import numpy as np\n",
    "Ar = np.array(A)\n",
    "print(Ar)\n",
    "type(Ar)"
   ]
  },
  {
   "cell_type": "code",
   "execution_count": 12,
   "metadata": {
    "colab": {
     "base_uri": "https://localhost:8080/",
     "height": 122
    },
    "colab_type": "code",
    "executionInfo": {
     "elapsed": 9331,
     "status": "ok",
     "timestamp": 1595012815477,
     "user": {
      "displayName": "Ana Cecilia Vargas Paredes",
      "photoUrl": "https://lh3.googleusercontent.com/a-/AOh14GjPv_-ryavawgxIVuCxtmjoaetzvQEWuB3vEsgF5Q=s64",
      "userId": "13533717859936293059"
     },
     "user_tz": 300
    },
    "id": "tiQiWvP2BSl5",
    "outputId": "46fe2c3e-b591-4fcc-b7d6-0f925fcf1da2"
   },
   "outputs": [
    {
     "name": "stdout",
     "output_type": "stream",
     "text": [
      "Requirement already satisfied: pandas in c:\\users\\usuario5810\\anaconda3\\lib\\site-packages (2.2.2)\n",
      "Requirement already satisfied: numpy>=1.26.0 in c:\\users\\usuario5810\\anaconda3\\lib\\site-packages (from pandas) (1.26.4)\n",
      "Requirement already satisfied: python-dateutil>=2.8.2 in c:\\users\\usuario5810\\anaconda3\\lib\\site-packages (from pandas) (2.9.0.post0)\n",
      "Requirement already satisfied: pytz>=2020.1 in c:\\users\\usuario5810\\anaconda3\\lib\\site-packages (from pandas) (2024.1)\n",
      "Requirement already satisfied: tzdata>=2022.7 in c:\\users\\usuario5810\\anaconda3\\lib\\site-packages (from pandas) (2023.3)\n",
      "Requirement already satisfied: six>=1.5 in c:\\users\\usuario5810\\anaconda3\\lib\\site-packages (from python-dateutil>=2.8.2->pandas) (1.16.0)\n"
     ]
    }
   ],
   "source": [
    "!pip install pandas\n",
    "import pandas"
   ]
  },
  {
   "cell_type": "code",
   "execution_count": 11,
   "metadata": {
    "colab": {
     "base_uri": "https://localhost:8080/",
     "height": 102
    },
    "colab_type": "code",
    "executionInfo": {
     "elapsed": 7347,
     "status": "ok",
     "timestamp": 1595012831614,
     "user": {
      "displayName": "Ana Cecilia Vargas Paredes",
      "photoUrl": "https://lh3.googleusercontent.com/a-/AOh14GjPv_-ryavawgxIVuCxtmjoaetzvQEWuB3vEsgF5Q=s64",
      "userId": "13533717859936293059"
     },
     "user_tz": 300
    },
    "id": "MYbbgBOtCo_J",
    "outputId": "799364f4-5045-4a4f-9b43-9129c476ab6b",
    "scrolled": true
   },
   "outputs": [
    {
     "name": "stdout",
     "output_type": "stream",
     "text": [
      "\"hola mundo\"\n",
      " El volumen de la unidad C es Windows \n",
      " El n£mero de serie del volumen es: AE6E-7A74\n",
      "\n",
      " Directorio de C:\\Users\\usuario5810\\Desktop\\Notebooks\n",
      "\n",
      "14/03/2025  11:43    <DIR>          .\n",
      "14/03/2025  11:07    <DIR>          ..\n",
      "14/03/2025  11:10    <DIR>          .ipynb_checkpoints\n",
      "14/03/2025  11:08           111,484 Ficheros.ipynb\n",
      "14/03/2025  11:08             8,226 notebookLatex.ipynb\n",
      "14/03/2025  11:08             6,004 notebookMarkdown.ipynb\n",
      "14/03/2025  11:43    <DIR>          PRUEBA\n",
      "14/03/2025  11:36            18,774 RepasandoPython-JupyterNotebook (1).ipynb\n",
      "               4 archivos        144,488 bytes\n",
      "               4 dirs  392,758,669,312 bytes libres\n",
      "\n",
      "Microsoft Windows [Versi¢n 10.0.22631.5039]\n",
      "PATH=C:\\Users\\usuario5810\\anaconda3;C:\\Users\\usuario5810\\anaconda3\\Library\\mingw-w64\\bin;C:\\Users\\usuario5810\\anaconda3\\Library\\usr\\bin;C:\\Users\\usuario5810\\anaconda3\\Library\\bin;C:\\Users\\usuario5810\\anaconda3\\Scripts;C:\\Users\\usuario5810\\anaconda3\\bin;C:\\Users\\usuario5810\\anaconda3\\condabin;C:\\windows\\system32;C:\\windows;C:\\windows\\System32\\Wbem;C:\\windows\\System32\\WindowsPowerShell\\v1.0;C:\\windows\\System32\\OpenSSH;C:\\Users\\usuario5810\\AppData\\Local\\Microsoft\\WindowsApps;.\n",
      "C:\\Users\\usuario5810\\Desktop\\Notebooks\n"
     ]
    }
   ],
   "source": [
    "!echo \"hola mundo\"\n",
    "!mkdir PRUEBA\n",
    "!dir\n",
    "!ver\n",
    "!path\n",
    "!cd"
   ]
  },
  {
   "cell_type": "code",
   "execution_count": 8,
   "metadata": {
    "colab": {
     "base_uri": "https://localhost:8080/",
     "height": 34
    },
    "colab_type": "code",
    "executionInfo": {
     "elapsed": 1509,
     "status": "ok",
     "timestamp": 1595012947059,
     "user": {
      "displayName": "Ana Cecilia Vargas Paredes",
      "photoUrl": "https://lh3.googleusercontent.com/a-/AOh14GjPv_-ryavawgxIVuCxtmjoaetzvQEWuB3vEsgF5Q=s64",
      "userId": "13533717859936293059"
     },
     "user_tz": 300
    },
    "id": "wzwa9HY8LfHS",
    "outputId": "f2da132f-2c45-45be-bbb8-ac469ac5d5c2"
   },
   "outputs": [
    {
     "name": "stdout",
     "output_type": "stream",
     "text": [
      "[5.2, 5.8, 5.9]\n"
     ]
    }
   ],
   "source": [
    "print(A)\n"
   ]
  }
 ],
 "metadata": {
  "colab": {
   "name": "sesion17julio.ipynb",
   "provenance": [],
   "toc_visible": true
  },
  "kernelspec": {
   "display_name": "Python 3 (ipykernel)",
   "language": "python",
   "name": "python3"
  },
  "language_info": {
   "codemirror_mode": {
    "name": "ipython",
    "version": 3
   },
   "file_extension": ".py",
   "mimetype": "text/x-python",
   "name": "python",
   "nbconvert_exporter": "python",
   "pygments_lexer": "ipython3",
   "version": "3.12.7"
  }
 },
 "nbformat": 4,
 "nbformat_minor": 4
}
