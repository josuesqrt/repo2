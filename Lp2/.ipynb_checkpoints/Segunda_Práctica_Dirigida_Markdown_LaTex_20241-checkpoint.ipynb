{
  "cells": [
    {
      "cell_type": "markdown",
      "metadata": {
        "id": "CZain83dFSkS"
      },
      "source": [
        "# $$L^AT_EX$$\n",
        "\n",
        "Es un sistema tipográfico que sirve para crear composición de textos, orientado a la creación de documentos escritos que presenten una alta calidad tipográfica. Por sus características y posibilidades, es usado de forma especialmente intensa en la generación de artículos y libros científicos que incluyen, entre otros elementos, expresiones matemáticas.  \n",
        "\n",
        "Veamos un ejemplo de diseño de un documento con códigos Latex :"
      ]
    },
    {
      "cell_type": "markdown",
      "metadata": {
        "id": "6T5IrCJ1FSkU"
      },
      "source": [
        "# <center><u><b><p style=\"color:Darkred;\">DISEÑO COMPLETAMENTE AL AZAR</p></b></u></center>\n",
        "\n",
        "_<p style=\"color:blue;\">El  diseño completamente al azar es un prueba basada en el análisis de varianza, en donde la varianza total se descompone en la “varianza de los tratamientos” y la “varianza del error”.</p>_\n",
        "\n",
        "\n",
        "### Modelo Lineal Aditivo\n",
        "\n",
        "$$y_{ij}= u + t_{i} + E_{ij}$$\n",
        "\n",
        "### Análisis de Varianza\n",
        "\n",
        "|Fuente de Variación|    GL     |    SC      |   CM                | F                      |\n",
        "|:------------------|:---------:|:----------:|:-------------------:|-----------------------:|\n",
        "| Tratamientos      | t-1       |   SC(T)    |$$\\frac{SC(T)}{t-1}$$|$$\\frac{CM(T)}{CM(E)}$$ |\n",
        "| Error Exp.        | n-t       |   SC(E)    |$$\\frac{SC(E)}{n-t}$$|                        |\n",
        "| Total             | n-1       |   SC(tot)  |                     |                        |\n",
        "\n",
        "$\\mathit{donde:}$\n",
        "\n",
        "$n = n_{1} +n_{2} +n_{3}+...+n_{t}$  \n",
        "\n",
        "$$F_{cal} =\\frac{CM(T)}{CM(E)} ~ F_{(t-1)(n-t)}$$\n",
        "\n",
        "### <p style=\"color:green;\">Hipótesis:</p>\n",
        "\n",
        "$H_0 : t_{1} = t_{2} = t_{3}= 0$\n",
        "\n",
        "$H_1 : t_{i} ≠ t_{2} ≠ t_{3}$\n",
        "\n"
      ]
    },
    {
      "cell_type": "markdown",
      "metadata": {
        "id": "1os5R28MFSkV"
      },
      "source": [
        "## <p style=\"color:Darkred;\">Bibliografía:</p>   \n",
        "\n",
        "1. [Código LaTex](https://wiki.geogebra.org/es/C%C3%B3digo_LaTeX_para_las_f%C3%B3rmulas_m%C3%A1s_comunes)  \n",
        "2. [Markdown fórmulas y símbolos matemáticos](https://programmerclick.com/article/9139292621/)  \n",
        "3. [Editor LaTex en línea](https://www.codecogs.com/latex/eqneditor.php)  \n"
      ]
    },
    {
      "cell_type": "markdown",
      "source": [
        "# <center><u><b><span style=\"color:blue\">REGRESIÓN LINEAL SIMPLE</span></b></u></center>  \n",
        "<p style=\"color:green;\">Es el estudio de la relacion funcional entre dos variables. Una variable X, llamada independiente, explicativa o de prediccion y una variable Y, llamada dependiente o variable respuesta. La funcion entre las variables es una linea recta, dada por la ecuacion:  \n",
        "    \n",
        "<br><center>[![RLS](https://economipedia.com/wp-content/uploads/Regresi%C3%B3n-lineal.png)](https://didactalia.net/en/community/materialeducativo/resource/calculadora-de-regresion-lineal-simple---recta-de/a354dc49-3a49-47c4-92ba-3b720337ee11)</center></br>\n",
        "\n",
        "    \n",
        "$$Y=\\alpha+\\beta_{1}X+\\varepsilon$$  \n",
        "\n",
        "donde,\n",
        "\n",
        "$\\alpha$ es el valor de la ordenada donde la linea de regresion y el eje Y se intersecan\n",
        "\n",
        "$\\beta_{1}$ es el coeficiente de regresion poblacional(pendiente de la linea recta)\n",
        "\n",
        "$\\varepsilon$ es el error o residual, es el componente aletorio del modelo\n",
        "\n",
        "## Las causas de este error o residuo serian:\n",
        "1. Se esta considerando una sola variable X, y no otras que afectan a Y\n",
        "2. Errores en la medicion de las variables estudiadas\n",
        "3. La relacion entre X e Y no es lineal(cuadratica, por ejemplo)\n",
        "\n",
        "Dada la ecuacion o modelo(1), un individuo o elemento puede ser representado:\n",
        "\n",
        "$$y_{i}=\\beta_{0}+\\beta_{1}x_{i}+\\varepsilon_{i}$$   ,  $$_{i=1,2,3,....,n}$$   \n",
        "\n",
        "**donde:**  _n_ es el tamaño de la muestra  \n",
        "\n",
        "<br><h2>Método de mínimos cuadrados</h2></br>  \n",
        "\n",
        "Para hacer una estimación del modelo de regresión lineal simple, trataremos de buscar una recta de la forma:  \n",
        "\n",
        "$$\\hat{Y}=\\hat{\\alpha }+\\hat{\\beta }X=a+bX$$  \n",
        "\n",
        "de modo que se ajuste a la nube de puntos.\n",
        "\n",
        "Para esto utilizaremos el método de mínimos cuadrados. Este método consiste en minimizarla\n",
        "suma de los cuadrados de los errores:\n",
        "$$\\sum_{i=1}^{n} e_{i}^{2} =\\sum_{i=1}^{n} (y_{i}-\\hat{y}_{i})^{2}$$  \n",
        "Es decir, la suma de los cuadrados de las diferencias entre los valores reales observados $y_{i}$ y\n",
        "los valores estimados $\\hat{y}_{i}$  \n",
        "\n",
        "<br>Con este método, las expresiones que se obtiene para a y b son las siguientes:</br>\n",
        "\n",
        "$$a=\\bar{y}-\\bar{b}x$$  <br> $$b=\\frac{S_{XY}}{S_{X}^{2}}$$ </br>\n",
        "En donde x y e denotan las medias muestrales de $X$ e $Y$ (respectivamente), $S^2_{x}$ es la varianza\n",
        "muestral de $X$ y $S^2_{XY}$ es la covarianza muestral entre $X$ e $Y$.  \n",
        "Estos parámetros se calculan como:     \n",
        "\n",
        "<br>\n",
        "\n",
        "|Parámetro          |    Fórmulas                                                                |\n",
        "|:-----------------:|:--------------------------------------------------------------------------:|\n",
        "| $$\\bar{x}$$       |$$\\bar{x} =\\frac{\\sum_{i=1}^{n} x_{i}}{n}$$                                 |\n",
        "| $$\\bar{y}$$       |$$\\bar{y} =\\frac{\\sum_{i=1}^{n} y_{i}}{n}$$                                 |     \n",
        "|  $$S_{X}^{2}$$    | $$S_{X}^{2}=\\frac{\\sum_{i=1}^{n}(x_{i}-\\bar{x})^{2}}{n}$$                  |\n",
        "| $S^2_{Y}$         | $$S^2_{Y}=\\frac{\\sum\\limits_{i=1}^{n} {(y_i-\\bar{y})^2}}{n}$$              |\n",
        "| $S^2_{XY}$        | $$S^2_{XY}=\\frac{\\sum\\limits_{i=1}^{n} {(x_i-\\bar{x})(y_{i}-\\bar{y})}}{n}$$|\n",
        "\n",
        "</br>\n",
        "\n",
        "\n"
      ],
      "metadata": {
        "id": "LnC7IBmPFUuj"
      }
    }
  ],
  "metadata": {
    "kernelspec": {
      "display_name": "Python 3",
      "language": "python",
      "name": "python3"
    },
    "language_info": {
      "codemirror_mode": {
        "name": "ipython",
        "version": 3
      },
      "file_extension": ".py",
      "mimetype": "text/x-python",
      "name": "python",
      "nbconvert_exporter": "python",
      "pygments_lexer": "ipython3",
      "version": "3.7.6"
    },
    "colab": {
      "provenance": []
    }
  },
  "nbformat": 4,
  "nbformat_minor": 0
}