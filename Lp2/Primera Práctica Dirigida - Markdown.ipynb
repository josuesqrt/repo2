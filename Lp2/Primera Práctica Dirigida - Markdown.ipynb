{
 "cells": [
  {
   "cell_type": "markdown",
   "id": "8f83d2ff-9b98-4e7f-bcc4-fa30f4ba2946",
   "metadata": {},
   "source": [
    "<center><h1><span style=\"color:Darkorange\">Markdown</span></h1></center>\n",
    "<p></b>Markdown es un lenguaje fácil de leer y escribir para aplicar formato al texto sin formato.</p> \n",
    "<p>Acerca del uso de Markdown en Python:</p>"
   ]
  },
  {
   "cell_type": "markdown",
   "id": "2a22bf38-96e7-4752-9bae-025ddeec6901",
   "metadata": {},
   "source": [
    "<b>Objetivos de Aprendizaje:</b> \n",
    "- Comprender qué es Markdown y su utilidad en la documentación de código.\n",
    "- Aprender la sistaxis básica de Markdown para formatear texto en notebooks de Jupyter.\n",
    "- Practicar la creación de contenido estructurado utilizando Markdown."
   ]
  },
  {
   "cell_type": "markdown",
   "id": "b2a4785f-5bdb-4146-a203-5a5d27b31b71",
   "metadata": {},
   "source": [
    "<h3><b>1. Introducción a Markdown</b></h3>\n",
    "\n",
    "En el contexto de la programación, Markdown se utiliza ampliamente para escribir documentación de código, READMEs de proyectos, notas de clase y más. Es especialmente útil en entornos colaborativos donde múltiples personas pueden necesitar contribuir o revisar la documentación.\n",
    "\n",
    "La importancia de Markdown radica en su simplicidad y claridad. Permite a los programadores concentrarse en el contenido sin distraerse por la complejidad de la sintaxis, lo que resulta en documentación más clara y legible.\n",
    "\n",
    "__Ventajas de utilizar Markdown en notebooks de Jupyter__ \n",
    "\n",
    "- **Facilidad de Uso:** Markdown utiliza una sintaxis simple y legible que facilita la creación de contenido sin distracciones.    \n",
    "- **Integración con Jupyter:** Los notebooks de Jupyter permiten la inclusión de celdas Markdown, lo que permite combinar explicaciones en formato de texto con código ejecutable, creando así un documento interactivo y autocontenido.    \n",
    "- **Flexibilidad:** Markdown ofrece una amplia gama de elementos de formato, desde encabezados y listas hasta tablas y bloques de código, lo que permite crear documentos estructurados y bien organizados.    \n",
    "\n",
    "**Demostración de cómo Markdown facilita la creación de contenido estructurado y legible**\n",
    "Durante esta clase, exploraremos la sintaxis básica de Markdown y veremos cómo se puede utilizar para crear contenido estructurado y legible. Realizaremos ejemplos prácticos para demostrar cómo Markdown puede mejorar la documentación de código y facilitar la comprensión del mismo."
   ]
  },
  {
   "cell_type": "markdown",
   "id": "bfb82a2e-7ff9-4ba4-8d25-f20dc2584c15",
   "metadata": {},
   "source": [
    "<h3><b>2. Sintaxis básica de Markdown</b></h3> \n",
    "\n",
    "<h4><b>Headings (Encabezados)</b></h4>  <h4><b>Encabezado</b></h4>\n",
    "\n",
    "Los encabezados se utilizan para estructurar el contenido y se crean anteponiendo el símbolo '#', es decir el símbolo <b>hashtags</b> seguido del espacio al texto. Cuantos más # pongas, más pequeño será el encabezado. Por ejemplo:"
   ]
  },
  {
   "cell_type": "markdown",
   "id": "262039d8-edd1-4c15-8152-fb66da7b546f",
   "metadata": {},
   "source": [
    "# Encabezado de nivel 1\n",
    "## Encabezado de nivel 2\n",
    "### Encabezado de nivel 3\n",
    "#### Encabezado de nivel 4\n",
    "##### Encabezado de nivel 5\n",
    "###### Encabezado de nivel 6"
   ]
  },
  {
   "cell_type": "markdown",
   "id": "0215ff00-4664-43ef-bc81-28d88415c46f",
   "metadata": {},
   "source": [
    "```markdown\n",
    "# Encabezado de nivel 1\n",
    "## Encabezado de nivel 2\n",
    "### Encabezado de nivel 3\n",
    "#### Encabezado de nivel 4\n",
    "##### Encabezado de nivel 5\n",
    "###### Encabezado de nivel 6\n",
    "```"
   ]
  },
  {
   "cell_type": "markdown",
   "id": "7e9cac19-20e6-4c30-9ea0-180735e4d7f9",
   "metadata": {},
   "source": [
    "<font color='Darkblue'>Alternativamente, los encabezados pueden comenzar con etiquetas de marcado, es decir, de h1 a h6 con las siguientes sintaxis:</font> "
   ]
  },
  {
   "cell_type": "markdown",
   "id": "665b0672-5c6a-47dd-87f4-38731763317c",
   "metadata": {},
   "source": [
    "# (Header 1, titulo) \n",
    "## (Header 2, titulos principales)\n",
    "### (Header 3, subtitulos)\n",
    "#### (Header 4)\n",
    "##### (Header 5)\n",
    "###### (Header 6)"
   ]
  },
  {
   "cell_type": "markdown",
   "id": "0be8b897-fbd5-4528-a057-1d59ec72fe5a",
   "metadata": {},
   "source": [
    "```Markdown\n",
    "<h1>Header 1,título</h1> \n",
    "<h2>Header 2, títulos principales</h2> \n",
    "<h3>Header 3, subtítulos</h3> \n",
    "<h4>Header 4</h4> \n",
    "<h5>Header 5</h5> \n",
    "<h6>Header 6</h6> \n",
    "```"
   ]
  },
  {
   "cell_type": "markdown",
   "id": "07298c6d-a52b-45b8-a2f0-0d7bee84ee98",
   "metadata": {},
   "source": [
    "<font color='Darkblue'>Otra forma para títulos y subtítulos:</font>\n"
   ]
  },
  {
   "cell_type": "markdown",
   "id": "cbb3de5b-c767-4f26-a698-868b8f38726b",
   "metadata": {},
   "source": [
    "Jerarquía de tipos estándar\n",
    "=======================\n",
    "Clasificación\n",
    "------------------"
   ]
  },
  {
   "cell_type": "markdown",
   "id": "87106570-9ec2-49b2-89b7-05380bc624c5",
   "metadata": {},
   "source": [
    "```Markdown\n",
    "Jerarquía de tipos estándar\n",
    "=======================\n",
    "Clasificación\n",
    "------------------\n",
    "```"
   ]
  },
  {
   "cell_type": "markdown",
   "id": "17901fb0-8371-42c3-acb4-96295e74f836",
   "metadata": {},
   "source": [
    "<h4><b>Estilos de texto</b></h4>\n",
    "\n",
    "- **Negrita:** Se logra utilizando ** o __ alrededor del texto que se desea resaltar. \n",
    "- *Cursiva:* Se logra utilizando * o _ alrededor del texto que se desea resaltar. \n",
    "- ~~Tachado:~~ Se logra utilizando ~~ alrededor del texto que se desea tachar.  ~~"
   ]
  },
  {
   "cell_type": "markdown",
   "id": "8536217e-7910-49e6-9b8b-40807699c6e7",
   "metadata": {},
   "source": [
    "Por ejemplo: \n",
    "\n",
    "**Texto en Negrita**  \n",
    "*Texto en Cursiva*  \n",
    "~~Texto Tachado~~  "
   ]
  },
  {
   "cell_type": "markdown",
   "id": "4192337d-b4b4-41b6-9953-73ee038be3dd",
   "metadata": {},
   "source": [
    "```markdown\n",
    "**Texto en negrita**\r\n",
    "*Texto en cursiva*\r\n",
    "~~Texto tachado```~\r\n"
   ]
  },
  {
   "cell_type": "markdown",
   "id": "b8ba2126-4b01-4918-a14c-048bfa4c2fbc",
   "metadata": {},
   "source": [
    "#### **Fuentes de Texto**"
   ]
  },
  {
   "cell_type": "markdown",
   "id": "be9c840c-4d25-4144-86a9-e5ea69129c77",
   "metadata": {},
   "source": [
    "¡Julio está <span style=\"font-family:Papyrus; font-size:3em;\">ENAMORADO!</span>"
   ]
  },
  {
   "cell_type": "markdown",
   "id": "862a4f39-65d4-4f87-8d0e-0b5995046445",
   "metadata": {},
   "source": [
    "#### **Listas** \n",
    "\n",
    "* **Listas con viñetas:** Se crean utilizando -, *, o + seguido de un espacio y el elemento de la lista. \n",
    "* **Listas numeradas:** Se crean utilizando números seguidos de un punto y un espacio. "
   ]
  },
  {
   "cell_type": "markdown",
   "id": "b3ac5b0b-e97c-47b2-a85a-bb364622e219",
   "metadata": {},
   "source": [
    "- Muestreo\n",
    "+ Clasificación de la Estadìstica:\n",
    "    - Estadìstica Descriptiva\n",
    "    * Estadìstica Inferencial\n",
    "\n",
    "1. Muestreo\n",
    "2. Clasificaciòn Estadìstica"
   ]
  },
  {
   "cell_type": "markdown",
   "id": "633f2842-ada6-4f41-964c-6eb9b1d944b6",
   "metadata": {},
   "source": [
    "Por ejemplo:\n",
    "\n",
    "###### <u>Listas Desordenadas</u>\n",
    "* Operadores aritméticos\n",
    "    * Negación\n",
    "    * Exponente\n",
    "    * Modulo\n",
    "* Operadores de asignaciones\n",
    "* Tipo numéricos\n",
    "* Tipo cadena de caracteres\n",
    " \n",
    "###### <u>Listas Ordenadas</u>\n",
    "1. Operadores aritméticos\n",
    "    1. Negación\n",
    "    2. Exponente\n",
    "    3. Modulo\n",
    "2. Operadores de asignaciones\n",
    "3. Tipo numéricos\n",
    "4. Tipo cadena de caracteres"
   ]
  },
  {
   "cell_type": "markdown",
   "id": "ff6c2499-e2d9-4912-9576-fa8b988f3832",
   "metadata": {},
   "source": [
    "```markdown \n",
    "- Operadores aritméticos\n",
    "    - Negación\n",
    "    - Exponente\n",
    "    - Modulo\n",
    "- Operadores de asignaciones\n",
    "- Tipo numéricos\n",
    "- Tipo cadena de caracteres\n",
    " \n",
    "1. Operadores aritméticos\n",
    "    1. Negación\n",
    "    2. Exponente\n",
    "    3. Modulo\n",
    "2. Operadores de asignaciones\n",
    "3. Tipo numéricos\n",
    "4. Tipo cadena de caracteres\n",
    "```"
   ]
  },
  {
   "cell_type": "markdown",
   "id": "f20a0271-5c1e-4988-914c-472046713eb6",
   "metadata": {},
   "source": [
    "#### **Enlaces (Links)**   \n",
    "\r\n",
    "Para crear un enlace se utiliza la siguiente sintaxis: [texto del enlace](URL). Por ejemplo   :"
   ]
  },
  {
   "cell_type": "markdown",
   "id": "3fb652cc-f35e-4e13-9f4b-cdddc78346cd",
   "metadata": {},
   "source": [
    "[Enlace a Google](https://www.google.com)"
   ]
  },
  {
   "cell_type": "markdown",
   "id": "c8962d14-9c11-4628-83ab-7bdf8a5d8067",
   "metadata": {},
   "source": [
    "https://wiki.geogebra.org/es/\n",
    "\n",
    "[GeoGebra](https://wiki.geogebra.org/es/)\n",
    "\n",
    "https://entrenamiento-python-basico.readthedocs.io/es/latest/leccion3/\n",
    "\n",
    "[Tipos y estructuras de datos](https://entrenamiento-python-basico.readthedocs.io/es/latest/leccion3/)\n",
    "\n",
    "Estos son vinculos referenciados a [Anaconda][1] y [Python][2].\n",
    "\n",
    "[1]: https://www.continuum.io \"Continuum Analytics\"\n",
    "[2]: https://www.python.org \"Python Software Fundation\"\n",
    "\n",
    "[vínculo a la seccion de abajo](#Código)"
   ]
  },
  {
   "cell_type": "markdown",
   "id": "8b375e7e-1f65-4651-a1bf-e30b8833708b",
   "metadata": {},
   "source": [
    "```markdown\n",
    "[Enlace a Google](https://www.google.com)\n",
    "\n",
    "[GeoGebra](https://wiki.geogebra.org/es/)\n",
    "\n",
    "https://entrenamiento-python-basico.readthedocs.io/es/latest/leccion3/\n",
    "\n",
    "[Tipos y estructuras de datos](https://entrenamiento-python-basico.readthedocs.io/es/latest/leccion3/)\n",
    "\n",
    "Estos son vinculos referenciados a [Anaconda][1] y [Python][2].\n",
    "\n",
    "[1]: https://www.continuum.io \"Continuum Analytics\"\n",
    "[2]: https://www.python.org \"Python Software Fundation\"\n",
    "\n",
    "[vínculo a la seccion de abajo](#Código)\n",
    "```"
   ]
  },
  {
   "cell_type": "markdown",
   "id": "67c3c8a5-0dbe-411d-8fea-8e015ead351d",
   "metadata": {},
   "source": [
    "#### **Imágenes** \n",
    "\r\n",
    "Para insertar imágenes se utiliza la siguiente sintaxis: ![texto alternativo](URL de la imagen). Por ejemplo :"
   ]
  },
  {
   "cell_type": "markdown",
   "id": "162b333e-9d35-49f2-be80-c90eef856974",
   "metadata": {},
   "source": [
    "![Logo de Jupyter](https://upload.wikimedia.org/wikipedia/commons/thumb/3/38/Jupyter_logo.svg/250px-Jupyter_logo.svg.png) \n",
    "\n",
    "![Python](https://www.python.org/static/img/python-logo.png) \n",
    "\n",
    "![Markdown](https://upload.wikimedia.org/wikipedia/commons/thumb/4/48/Markdown-mark.svg/250px-Markdown-mark.svg.png) \n",
    "\n",
    "![Latex](https://www.latex-project.org/img/latex-project-logo.svg)\n",
    "\n",
    "![Google](https://www.google.com/images/branding/googlelogo/1x/googlelogo_color_272x92dp.png)\n",
    "\n",
    "![Netflix](https://2.bp.blogspot.com/-EzCLC-o4vN0/WhUG0JAp1FI/AAAAAAAAASk/hsvIY-YKuXs4dZHsy02Z0V1IrPuxYEl9QCLcBGAs/s1600/netflix%2Bcontenido%2Boculto.jpg)\n",
    "\n",
    "![recuperador](https://cde.laprensa.e3.pe/ima/0/0/2/3/8/238082.jpg)"
   ]
  },
  {
   "cell_type": "markdown",
   "id": "704dfd0f-2629-4a01-b211-d7cc9d3160cc",
   "metadata": {},
   "source": [
    "```markdown\n",
    "![Logo de Jupyter](https://upload.wikimedia.org/wikipedia/commons/thumb/3/38/Jupyter_logo.svg/250px-Jupyter_logo.svg.png)\n",
    "\n",
    "![Python](https://www.python.org/static/img/python-logo.png)\n",
    "\n",
    "![Markdown](https://upload.wikimedia.org/wikipedia/commons/thumb/4/48/Markdown-mark.svg/250px-Markdown-mark.svg.png)\n",
    "\n",
    "![Latex](https://www.latex-project.org/img/latex-project-logo.svg)\n",
    "\n",
    "![Google](https://www.google.com/images/branding/googlelogo/1x/googlelogo_color_272x92dp.png)\n",
    "\n",
    "![Netflix](https://2.bp.blogspot.com/-EzCLC-o4vN0/WhUG0JAp1FI/AAAAAAAAASk/hsvIY-YKuXs4dZHsy02Z0V1IrPuxYEl9QCLcBGAs/s1600/netflix%2Bcontenido%2Boculto.jpg)\n",
    "\n",
    "![recuperador](https://cde.laprensa.e3.pe/ima/0/0/2/3/8/238082.jpg)\n",
    "```"
   ]
  },
  {
   "cell_type": "markdown",
   "id": "4695637e-866c-4773-9012-ca644dde17e1",
   "metadata": {},
   "source": [
    "#### Tamaño de la imagen\n",
    "<img src=\"https://cde.laprensa.e3.pe/ima/0/0/2/3/8/238082.jpg\" alt=\"wsp\" width=\"300\" height=\"200\">\r\n"
   ]
  },
  {
   "cell_type": "markdown",
   "id": "a6bf7362-6376-4b51-bcb6-d68cfd77ae5a",
   "metadata": {},
   "source": [
    "```Markdown\n",
    "<img src=\"https://cde.laprensa.e3.pe/ima/0/0/2/3/8/238082.jpg\" alt=\"wsp\" width=\"300\" height=\"200\">\n",
    "```"
   ]
  },
  {
   "cell_type": "markdown",
   "id": "0597ca04-dd9e-4574-bf75-1fbf47d7db86",
   "metadata": {},
   "source": [
    "#### Incrustar un video con URL\n",
    "\n"
   ]
  },
  {
   "cell_type": "markdown",
   "id": "c9e04278-5e68-445d-89c4-42906b22b2a9",
   "metadata": {},
   "source": [
    "```\n",
    "<iframe width=\"560\" height=\"315\" src=\"URL_DEL_VIDEO\" frameborder=\"0\" allowfullscreen></iframe>\n",
    "```"
   ]
  },
  {
   "cell_type": "markdown",
   "id": "72dd573a-6a4e-4785-bb85-9d3440e40838",
   "metadata": {},
   "source": [
    "#### Para insertar y centrar videos locales o enlaces directos a archivos de video\n",
    "<p style=\"text-align:center;\">\r\n",
    "  <video width=\"320\" height=\"240\" controls>\r\n",
    "    <source src=\"URL_DEL_VIDEO.mp4\" type=\"video/mp4\">\r\n",
    "    Tu navegador no soporta la etiqueta de video.\r\n",
    "  </video>\r\n",
    "</p>"
   ]
  },
  {
   "cell_type": "markdown",
   "id": "37925d19-12f2-4e42-b79a-cf92f70815ae",
   "metadata": {},
   "source": [
    "<iframe width=\"560\" height=\"315\" src=\"https://www.youtube.com/embed/NpmFbWO6HPU\" frameborder=\"0\" allowfullscreen></iframe>\n"
   ]
  },
  {
   "cell_type": "markdown",
   "id": "2818dd36-453e-4c1a-a595-1452dee32353",
   "metadata": {},
   "source": [
    "```Markdown\n",
    "<p style=\"text-align:center;\">\n",
    "  <video width=\"320\" height=\"240\" controls>\n",
    "    <source src=\"URL_DEL_VIDEO.mp4\" type=\"video/mp4\">\n",
    "    Tu navegador no soporta la etiqueta de video.\n",
    "  </video>\n",
    "</p>\n",
    "```"
   ]
  },
  {
   "cell_type": "markdown",
   "id": "fec90619-3c43-46da-8797-81692e00b01b",
   "metadata": {},
   "source": [
    "#### **centrar imagen**\n",
    "<p style=\"text-align:center;\">\r\n",
    "  <img src=\"https://2.bp.blogspot.com/-EzCLC-o4vN0/WhUG0JAp1FI/AAAAAAAAASk/hsvIY-YKuXs4dZHsy02Z0V1IrPuxYEl9QCLcBGAs/s1600/netflix%2Bcontenido%2Boculto.jpg\" alt=\"netflix\">\r\n",
    "</p>"
   ]
  },
  {
   "cell_type": "markdown",
   "id": "58984d30-6199-49f8-b64c-1bac4a82659a",
   "metadata": {},
   "source": [
    "```Markdown\n",
    "<p style=\"text-align:center;\">\n",
    "  <img src=\"https://2.bp.blogspot.com/-EzCLC-o4vN0/WhUG0JAp1FI/AAAAAAAAASk/hsvIY-YKuXs4dZHsy02Z0V1IrPuxYEl9QCLcBGAs/s1600/netflix%2Bcontenido%2Boculto.jpg\" alt=\"netflix\">\n",
    "</p>\n",
    "```"
   ]
  },
  {
   "cell_type": "markdown",
   "id": "6a0900b7-6e67-4ff4-9b37-ed99640d7640",
   "metadata": {},
   "source": [
    "#### **Centrar Texto**\n",
    "<p style=\"text-align:center;\">Este texto está centrado.</p> \n",
    "\n",
    "### **Justificar Texto**\n",
    "<p style=\"text-align:justify;\">Este texto está justificado.</p>"
   ]
  },
  {
   "cell_type": "markdown",
   "id": "15ab4dd8-0464-4c09-8406-01fa3337457d",
   "metadata": {},
   "source": [
    "<h3><b>3. Uso avanzado de Markdown</b></h3>\n",
    "\n",
    "#### **Tablas** \n",
    "\n",
    "Las tablas en Markdown se crean utilizando barras verticales | para separar las columnas y guiones - para separar la fila de enacabezado de las filas de datos. Por ejemplo:  "
   ]
  },
  {
   "cell_type": "markdown",
   "id": "d77f1c08-e4c6-492c-bdda-54e6dc6cdf0e",
   "metadata": {},
   "source": [
    "|Categoria de tipo  | Nombre    | Descripción|\n",
    "|:------------------|:---------:|-----------:|\n",
    "| Numero inmutable  | int       | Entero     | \n",
    "|secuencia inmutable| str       | cadena     |\n",
    "|secuencia mutable  | list      | listas     | |\r\n"
   ]
  },
  {
   "cell_type": "markdown",
   "id": "810a7ff6-510d-43d9-8e64-1bb0c426d41f",
   "metadata": {},
   "source": [
    "```Markdown\n",
    "|Categoria de tipo  | Nombre    | Descripción|\n",
    "|:------------------|:---------:|-----------:|\n",
    "| Numero inmutable  | int       | Entero     |\n",
    "|secuencia inmutable| str       | cadena     |\n",
    "|secuencia mutable  | list      | listas     |\n",
    "```"
   ]
  },
  {
   "cell_type": "markdown",
   "id": "b3d53e71-8ab5-47a6-80a7-406e5861c1be",
   "metadata": {},
   "source": [
    "#### **HTML** \n",
    "\n",
    "<h5>Link Colors</h5>  \n",
    "<p>You can change the default colors of links</p>\n",
    "<p>This is a <strong>HTML</strong> file.</p>\n",
    "<i><a href=\"https://honeybadger.io/\">Visit Honeybadger</a></i>\n",
    "\n",
    "\n",
    "<h4><b>Color</b></h4>    \n",
    "<p>I am normal</p>\n",
    "<p style=\"color:red;\">red</p>\n",
    "<p style=\"color:blue;\">blue</p>\n",
    "<br><font color='red'>rojo</font></br>\n",
    "<font color='blue'>azul</font>\n",
    "    \n",
    "<h4><b>Color y Tamaño</b></h4> \n",
    "<p style=\"font-size:50px;\">big</p>"
   ]
  },
  {
   "cell_type": "markdown",
   "id": "1b40fd50-5f39-4af4-9052-0a688241692f",
   "metadata": {},
   "source": [
    "```Markdown\n",
    "<h5>Link Colors</h5>  \n",
    "<p>You can change the default colors of links</p>\n",
    "<p>This is a <strong>HTML</strong> file.</p>\n",
    "<i><a href=\"https://honeybadger.io/\">Visit Honeybadger</a></i>\n",
    "```\n",
    "```Markdown\n",
    "<p>I am normal</p>\n",
    "<p style=\"color:red;\">red</p>\n",
    "<p style=\"color:blue;\">blue</p>\n",
    "<font color='red'>rojo</font>\n",
    "<font color='blue'>azul</font>\n",
    "    \n",
    "<h4><b>Color y Tamaño</b></h4> \n",
    "<p style=\"font-size:50px;\">big</p>\n",
    "```"
   ]
  },
  {
   "cell_type": "markdown",
   "id": "3d0cf7ae-d613-45ee-a80c-3a7f8f81ce3d",
   "metadata": {},
   "source": [
    "#### **Bloques de código** \n",
    "\n",
    "Para resaltar bloques de código en Markdown, se puede utilizar una sangría de cuatro espacios o envolver el código entre tres comillas invertidas (`). Por ejemplo:"
   ]
  },
  {
   "cell_type": "markdown",
   "id": "a9555df9-b5fa-4702-9895-2d3400e4bc8f",
   "metadata": {},
   "source": [
    "#### Código\n",
    "\n",
    "Se pueden crear bloques de código:\n",
    "\n",
    "    # agregar tres espacios al principio de linea\n",
    "```python\n",
    "    for (i = 1; i < 5; i++)\n",
    "    {\n",
    "        printf('%d', i)\n",
    "    }\n",
    "```\n",
    "\n",
    "\n",
    "Código Python: Convirtiendo las variables cualitativas a factor\n",
    "```python\n",
    "if edad >= 18 and edad < 65:\n",
    "    print(\"Eres un adulto.\")\n",
    "elif edad >= 65:\n",
    "    print(\"Eres un adulto mayor.\")\n",
    "else:\n",
    "    print(\"Aún no eres un adulto.\")\n",
    "```"
   ]
  },
  {
   "cell_type": "markdown",
   "id": "72fd89a6-cb96-4d4a-b8a1-140e877e56b8",
   "metadata": {},
   "source": [
    "#### **Citas**  \r\n",
    "Para citar texto en Markdown, se utiliza el símbolo > antes del texto que se desea citar. Por ejemplo:"
   ]
  },
  {
   "cell_type": "markdown",
   "id": "ff7dacf2-b188-4305-b3de-34ecb1dc437c",
   "metadata": {},
   "source": [
    "> Esto es un ejemplo de cita en Markdown."
   ]
  },
  {
   "cell_type": "markdown",
   "id": "7d5b54fd-022d-46d9-b19a-d0f1d680e750",
   "metadata": {},
   "source": [
    "##### **Citas en bloque** \n",
    "\n",
    "> Se usan los \">\" para las citas en bloque.\r\n",
    ">> También puedes anidarlas.  \r\n",
    ">>\r\n",
    "> * Puedes citar una lista.\r\n",
    "> * Etcétera.\r\n",
    "\r\n",
    "> Para separar la cita en bloque anidada, agrega un espacio entre las líneas.\r\n",
    "\r\n",
    "Agrega otra línea para continuar con el texto normal en párrafo."
   ]
  },
  {
   "cell_type": "markdown",
   "id": "668ac7cd-4fff-454b-aedf-e7069d5cd48c",
   "metadata": {},
   "source": [
    "```Markdown\n",
    "> Se usan los \">\" para las citas en bloque.\n",
    ">> También puedes anidarlas.  \n",
    ">>\n",
    "> * Puedes citar una lista.\n",
    "> * Etcétera.\n",
    "\n",
    "> Para separar la cita en bloque anidada, agrega un espacio entre las líneas.\n",
    "\n",
    "Agrega otra línea para continuar con el texto normal en párrafo.\n",
    "```"
   ]
  },
  {
   "cell_type": "markdown",
   "id": "dd5a2167-8ad3-4977-b9ea-b51a2d743efe",
   "metadata": {},
   "source": [
    "#### **Sangrías**\n",
    "Este es un párrafo normal:\n",
    "\n",
    "    Este es un bloque de código con formato previo.\n",
    "  \n",
    "Si están precedidos por un espacio, los dos puntos desaparecen :\n",
    "\n",
    "    Este es un bloque de código con formato previo."
   ]
  },
  {
   "cell_type": "markdown",
   "id": "00666c8f-1ccf-409c-b70d-21a7de1264fc",
   "metadata": {},
   "source": [
    "```Markdown\n",
    "Este es un párrafo normal:\n",
    "\n",
    "    Este es un bloque de código con formato previo.\n",
    "  \n",
    "Si están precedidos por un espacio, los dos puntos desaparecen :\n",
    "\n",
    "    Este es un bloque de código con formato previo.\n",
    "```"
   ]
  },
  {
   "cell_type": "markdown",
   "id": "6fd8eaf6-f231-48b1-9aec-839bb081e2df",
   "metadata": {},
   "source": [
    "#### **Fórmulas matemáticas (usando LaTeX)** :"
   ]
  },
  {
   "cell_type": "raw",
   "id": "5f2f1f89-99cd-4027-9b43-c81cb28bbb26",
   "metadata": {},
   "source": [
    "Markdown admite la inclusión de fórmulas matemáticas utilizando la sintaxis de LaTeX. Las fórmulas se colocan entre signos de dólar $ para fórmulas en línea y entre doble signo de dólar $$ para fórmulas en bloque. Por ejemplo:"
   ]
  },
  {
   "cell_type": "markdown",
   "id": "e28e8f86-5967-4d29-b740-9f1417e6255b",
   "metadata": {},
   "source": [
    "$E = mc^2$ \n",
    "\n",
    "$$\\int_{a}^{b} x^2 \\, dx$$"
   ]
  },
  {
   "cell_type": "markdown",
   "id": "8dd17b7e-2119-45af-9788-cd732b25c2ca",
   "metadata": {},
   "source": [
    "```Markdown\n",
    "$E = mc^2$ \n",
    "\n",
    "$$\\int_{a}^{b} x^2 \\, dx$$\n",
    "\n",
    "```"
   ]
  },
  {
   "cell_type": "markdown",
   "id": "2ec8799b-b0c2-4fe5-ba73-4447a347f021",
   "metadata": {},
   "source": [
    "##### **Con Superíndice y subíndice**"
   ]
  },
  {
   "cell_type": "markdown",
   "id": "331b9743-90df-491a-9888-22c8b781b8e8",
   "metadata": {},
   "source": [
    "**Subínidice**\n",
    "\n",
    "Las plantas necesitan CO<sub>2</sub>"
   ]
  },
  {
   "cell_type": "markdown",
   "id": "f252593f-843d-4caf-a5db-504968397d3c",
   "metadata": {},
   "source": [
    "```Markdown\n",
    "CO<sub>2</sub>\n",
    "```"
   ]
  },
  {
   "cell_type": "markdown",
   "id": "88688b00-4480-4463-89fe-b0432e3fb334",
   "metadata": {},
   "source": [
    "**Superíndice**\n",
    "\n",
    "E=MC<sup>2</sup>"
   ]
  },
  {
   "cell_type": "markdown",
   "id": "c32309c6-b615-4473-910d-b90ab4114a9f",
   "metadata": {},
   "source": [
    "```Markdown\n",
    "E=MC<sup>2</sup>\n",
    "```"
   ]
  },
  {
   "cell_type": "markdown",
   "id": "6dadc826-966e-413a-9a2e-ed15d50525ae",
   "metadata": {},
   "source": [
    "### Bibliografía\n",
    "\n",
    "1. [Qué es Markdown](https://www.silocreativo.com/que-es-markdown-por-que-deberias-empezar-a-usarlo/) \n",
    "2. [Ejemplos HTML](https://www.w3schools.com/html/html_examples.asp)\n",
    "3. [Tipos y estr. datos](https://entrenamiento-python-basico.readthedocs.io/es/latest/leccion3/)\n",
    "4. [Código LaTex](https://wiki.geogebra.org/es/C%C3%B3digo_LaTeX_para_las_f%C3%B3rmulas_m%C3%A1s_comunes)\n",
    "5. [Squarespace Apuntes](https://support.squarespace.com/hc/es/articles/206543587-Apuntes-sobre-Markdown)\n",
    "6. [Squarespace Enlaces ancla](https://support.squarespace.com/hc/es/articles/207135178-Crear-enlaces-ancla)"
   ]
  },
  {
   "cell_type": "code",
   "execution_count": null,
   "id": "815dd2a2-f1bb-4b7b-bf1e-ac32d5df524d",
   "metadata": {},
   "outputs": [],
   "source": []
  }
 ],
 "metadata": {
  "kernelspec": {
   "display_name": "Python 3 (ipykernel)",
   "language": "python",
   "name": "python3"
  },
  "language_info": {
   "codemirror_mode": {
    "name": "ipython",
    "version": 3
   },
   "file_extension": ".py",
   "mimetype": "text/x-python",
   "name": "python",
   "nbconvert_exporter": "python",
   "pygments_lexer": "ipython3",
   "version": "3.12.7"
  }
 },
 "nbformat": 4,
 "nbformat_minor": 5
}
