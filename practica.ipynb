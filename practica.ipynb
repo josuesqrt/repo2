{
  "nbformat": 4,
  "nbformat_minor": 0,
  "metadata": {
    "colab": {
      "provenance": []
    },
    "kernelspec": {
      "name": "python3",
      "display_name": "Python 3"
    },
    "language_info": {
      "name": "python"
    }
  },
  "cells": [
    {
      "cell_type": "code",
      "execution_count": 1,
      "metadata": {
        "colab": {
          "base_uri": "https://localhost:8080/"
        },
        "id": "jmGORy12cEcR",
        "outputId": "6994f153-46f8-4358-a1e5-94fb70ee7c03"
      },
      "outputs": [
        {
          "output_type": "stream",
          "name": "stdout",
          "text": [
            "alumno: Jean Franco Malvacedo Quiñonez\n",
            "calculadora\n",
            "Ingresa el primer numero 5\n",
            "Ingresa el segundo numero 5\n",
            "raiz cuadrada de cada numero 2.23606797749979 2.23606797749979 potencia 3125.0 resta 0.0 division 1.0 logaritmo natural de su suma 2.302585092994046\n"
          ]
        }
      ],
      "source": [
        "import math\n",
        "print(\"alumno: Jean Franco Malvacedo Quiñonez\")\n",
        "print(\"calculadora\")\n",
        "num4 = float(input(\"Ingresa el primer numero \"))\n",
        "num5 = float(input(\"Ingresa el segundo numero \"))\n",
        "r1 = math.sqrt(num4)\n",
        "r2 = math.sqrt(num5)\n",
        "ex = num4 ** num5\n",
        "r = num5 - num4\n",
        "d = num4/num5\n",
        "lg = math.log(num4 + num5)\n",
        "print(\"raiz cuadrada de cada numero\",r1,r2,\"potencia\",ex,\"resta\",r,\"division\",d,\n",
        "      \"logaritmo natural de su suma\", lg)"
      ]
    }
  ]
}