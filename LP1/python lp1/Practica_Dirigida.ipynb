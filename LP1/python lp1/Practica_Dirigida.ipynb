{
  "nbformat": 4,
  "nbformat_minor": 0,
  "metadata": {
    "colab": {
      "provenance": []
    },
    "kernelspec": {
      "name": "python3",
      "display_name": "Python 3"
    },
    "language_info": {
      "name": "python"
    }
  },
  "cells": [
    {
      "cell_type": "markdown",
      "source": [
        "**Practicando If, Else y Elif:**"
      ],
      "metadata": {
        "id": "xo7MtJ45gt2x"
      }
    },
    {
      "cell_type": "markdown",
      "source": [
        "Calcular el valor total que una persona debe pagar por la compra de llantas en un almacen que tiene la siguiente promoción: Si la cantidad de llantas comprada es mayor a 40, el precio unitario tiene un descuento de 10%. El programa debe ingresar como datos la cantidad de llantas y el precio inicial de cada llanta. El programa deberá aplicar el descuento y brindar el monto a pagar"
      ],
      "metadata": {
        "id": "W2jxgHvBgF6g"
      }
    },
    {
      "cell_type": "code",
      "execution_count": 7,
      "metadata": {
        "colab": {
          "base_uri": "https://localhost:8080/"
        },
        "id": "C8XtItPy1Zgg",
        "outputId": "9f0a3283-9913-4a4a-f467-dd4d75060591"
      },
      "outputs": [
        {
          "output_type": "stream",
          "name": "stdout",
          "text": [
            "Ingrese el valor de precio:40\n",
            "número de veces que se compran llantas:60\n",
            "el resultado: 2160.0\n"
          ]
        }
      ],
      "source": [
        "p=float(input('Ingrese el valor de precio:'))\n",
        "n=int(input('número de veces que se compran llantas:'))\n",
        "if n > 40:\n",
        "  p1=0.90*p\n",
        "t = n*p1\n",
        "print('el resultado:',t)"
      ]
    },
    {
      "cell_type": "code",
      "source": [
        "40*54"
      ],
      "metadata": {
        "colab": {
          "base_uri": "https://localhost:8080/"
        },
        "id": "L3SKJ8pR-WwB",
        "outputId": "06dbc638-5f77-452b-de20-ebe280789f46"
      },
      "execution_count": 9,
      "outputs": [
        {
          "output_type": "execute_result",
          "data": {
            "text/plain": [
              "2160"
            ]
          },
          "metadata": {},
          "execution_count": 9
        }
      ]
    },
    {
      "cell_type": "markdown",
      "source": [
        "Calcular un número, al ser mayor de dos unidades, se entregara el doble. Caso contrario se entregara el triple del número inicial."
      ],
      "metadata": {
        "id": "hlkyOAK4lFc7"
      }
    },
    {
      "cell_type": "code",
      "source": [
        "x=int(input( ' ingrese un numero ' ))\n",
        "if x > 2:\n",
        "  t=x*2\n",
        "else:\n",
        "    t=x*3\n",
        "print('el resultado es:',t)\n"
      ],
      "metadata": {
        "colab": {
          "base_uri": "https://localhost:8080/"
        },
        "id": "GBYXNGCj5vsS",
        "outputId": "bef9a032-6d09-4f4c-8ec7-c3a10b77e889"
      },
      "execution_count": 12,
      "outputs": [
        {
          "output_type": "stream",
          "name": "stdout",
          "text": [
            " ingrese un numero 10\n",
            "el resultado es: 20\n"
          ]
        }
      ]
    },
    {
      "cell_type": "markdown",
      "source": [
        "Ingrese las notas de los alumnos aprobados de un curso. Solo se consideran aprobados los alumnos con una nota superior a 10.5"
      ],
      "metadata": {
        "id": "tDLUyHyqlcfm"
      }
    },
    {
      "cell_type": "code",
      "source": [
        "alumno_aprobado = float(input('ingrese la nota:'))\n",
        "if alumno_aprobado > 10.5:\n",
        "   print('llevar el siguiente curso',alumno_aprobado)\n",
        "else:\n",
        "  print('no llevar el siguiente curso',alumno_aprobado)\n",
        "\n"
      ],
      "metadata": {
        "colab": {
          "base_uri": "https://localhost:8080/"
        },
        "id": "PK1mplag7lUL",
        "outputId": "b778ee2a-2314-403f-eab4-f53ac9d2cc85"
      },
      "execution_count": 14,
      "outputs": [
        {
          "output_type": "stream",
          "name": "stdout",
          "text": [
            "ingrese la nota:12\n",
            "llevar el siguiente curso 12.0\n"
          ]
        }
      ]
    },
    {
      "cell_type": "markdown",
      "source": [
        "Para el pago semanal a un obrero se consideran los siguientes datos; horas trabajadas, tarifa por hora y descuentos. Si la cantidad de horas trabajadas en la semana es mayor a 40, se le debe pagar las horas en exceso con una bonificación de 50% adicional al pago normal. Las variables a ingresar son:\n",
        "c: cantidad de horas trabajadas en la semana.\n",
        "t: tarifa por hora\n",
        "d: descuento aplicado por alimentación\n",
        "p: pago que recibe el obrero"
      ],
      "metadata": {
        "id": "rWejk5rs6sL1"
      }
    },
    {
      "cell_type": "code",
      "source": [
        "# Entrada de datos\n",
        "horas = float(input('Ingrese el número de horas: '))\n",
        "tarifa = float(input('Ingrese la tarifa por hora: '))\n",
        "descuento = float(input('Ingrese el descuento a aplicar: '))  # Si el descuento es conocido\n",
        "\n",
        "# Cálculo del pago\n",
        "if horas <= 40:\n",
        "    pago = (horas * tarifa) - descuento  # Pago sin horas extra\n",
        "else:\n",
        "    pago = (40 * tarifa) + (1.5 * tarifa * (horas - 40)) - descuento  # Pago con horas extra\n",
        "\n",
        "# Mostrar resultado\n",
        "print('El pago total es:', pago)\n",
        "\n",
        "\n"
      ],
      "metadata": {
        "id": "L_sEF-1U9mwS",
        "colab": {
          "base_uri": "https://localhost:8080/"
        },
        "outputId": "6ac67052-31e1-4ddc-e659-6577a7f62356"
      },
      "execution_count": null,
      "outputs": [
        {
          "output_type": "stream",
          "name": "stdout",
          "text": [
            "Ingrese el número de horas: 2\n",
            "Ingrese la tarifa por hora: 3\n",
            "Ingrese el descuento a aplicar: 2\n",
            "El pago total es: 4.0\n"
          ]
        }
      ]
    },
    {
      "cell_type": "markdown",
      "source": [
        "Durante el semestre un estudiante debe realizar tres evaluaciones. Ordene las notas de forma descendente.\n",
        "No hay notas iguales, todas las notas son diferentes."
      ],
      "metadata": {
        "id": "Jc3k-AoMla3u"
      }
    },
    {
      "cell_type": "code",
      "source": [
        "n1 = float(input(\"Ingreso de la nota 1: \"))\n",
        "n2 = float(input(\"Ingreso de la nota 2: \"))\n",
        "n3 = float(input(\"Ingreso de la nota 3: \"))\n",
        "\n",
        "# Ordenar las notas de mayor a menor\n",
        "if n1 >= n2 and n2 >= n3:\n",
        "    print(\"n1 > n2 > n3\")\n",
        "elif n2 >= n1 and n1 >= n3:\n",
        "    print(\"n2 > n1 > n3\")\n",
        "elif n3 >= n1 and n1 >= n2:\n",
        "    print(\"n3 > n1 > n2\")\n",
        "elif n3 >= n2 and n2 >= n1:\n",
        "    print(\"n3 > n2 > n1\")\n",
        "elif n2 >= n3 and n3 >= n1:\n",
        "    print(\"n2 > n3 > n1\")\n",
        "elif n1 >= n3 and n3 >= n2:\n",
        "    print(\"n1 > n3 > n2\")\n",
        "else:\n",
        "    print(\"Hay al menos dos notas iguales.\")\n",
        "\n"
      ],
      "metadata": {
        "id": "pL5PCD2bl3Wa",
        "colab": {
          "base_uri": "https://localhost:8080/"
        },
        "outputId": "96d02ed3-40d0-48f8-a99a-2d429930f6f6"
      },
      "execution_count": 16,
      "outputs": [
        {
          "output_type": "stream",
          "name": "stdout",
          "text": [
            "Ingreso de la nota 1: 11\n",
            "Ingreso de la nota 2: 10\n",
            "Ingreso de la nota 3: 8\n",
            "n1 > n2 > n3\n"
          ]
        }
      ]
    },
    {
      "cell_type": "markdown",
      "source": [
        "Durante el semestre un estudianre debe realizar tres evaluaciones. Cada evaluación tiene una calificación y la nota total que recibe el estudiante es la suma de los dos mejores calificaciones.\n",
        "Escriba un programa que les las tres calificaciones y determine cual es la calificacion total que recibirá el estudiante."
      ],
      "metadata": {
        "id": "7GTjplo7SiPJ"
      }
    },
    {
      "cell_type": "code",
      "source": [
        "a = float(input('Ingrese su primera calificación: '))\n",
        "b = float(input('Ingrese su segunda calificación: '))\n",
        "c = float(input('Ingrese su tercera calificación: '))\n",
        "if a >=c and b>=c:\n",
        "   t=a+b\n",
        "else:\n",
        "   if a >=b and c>=b:\n",
        "      t=a+c\n",
        "   else:\n",
        "      t=b+c\n",
        "print('su calificación: ', t)\n",
        "\n",
        "\n"
      ],
      "metadata": {
        "id": "Vxnzz0buSgSi",
        "colab": {
          "base_uri": "https://localhost:8080/"
        },
        "outputId": "97a5588d-097e-491b-8307-67ac5347a2d5"
      },
      "execution_count": 17,
      "outputs": [
        {
          "output_type": "stream",
          "name": "stdout",
          "text": [
            "Ingrese su primera calificación: 10\n",
            "Ingrese su segunda calificación: 12\n",
            "Ingrese su tercera calificación: 4\n",
            "su calificación:  22.0\n"
          ]
        }
      ]
    },
    {
      "cell_type": "markdown",
      "source": [
        "describa en Phyton la siguiente decisión para pagar una cuenta en un restaurante: Si la cuenta es menor a 50 dólares pago en efectivo. Sino, si es de 50 dólares hasta 100 dólares pagare con el celular dinero electrónico. Pero si es mayor a 100 dólares hasta 200 dólares, usaré tarjeta de debito. Caso contrario, pagaré con la tarjeta de crédito."
      ],
      "metadata": {
        "id": "ZKcFIlfMYSqt"
      }
    },
    {
      "cell_type": "code",
      "source": [
        "c = float(input('Ingrese el pago: '))\n",
        "\n",
        "if c < 50:\n",
        "    print('El pago sería en efectivo')\n",
        "elif c >= 50 and c < 100:\n",
        "    print('El pago sería electrónico')\n",
        "elif c >= 100 and c < 200:\n",
        "    print('El pago sería en débito')\n",
        "else:\n",
        "    print('El pago sería con tarjeta de crédito')\n"
      ],
      "metadata": {
        "id": "IcMVlY7OZX9v",
        "colab": {
          "base_uri": "https://localhost:8080/"
        },
        "outputId": "f7dd224a-255e-4a81-b6ef-fee8924bca97"
      },
      "execution_count": 24,
      "outputs": [
        {
          "output_type": "stream",
          "name": "stdout",
          "text": [
            "Ingrese el pago: 70\n",
            "El pago sería electrónico\n"
          ]
        }
      ]
    },
    {
      "cell_type": "markdown",
      "source": [
        "Leer el número de llantas de una compra y mostrar el valor que debe pagarse en un local que las vende con la siguiente política: Si se compran menos de 5 llantas, el precio unitario es 80. Si se compran mas de 5 igual 5 o 7, el precio unitario es 70, y si se compran más de 7 llantas, el precio unitario es de 60."
      ],
      "metadata": {
        "id": "WBRc_e_zdlT3"
      }
    },
    {
      "cell_type": "code",
      "source": [
        "llantas = int(input('ingrese el numero de llantas'))\n",
        "if llantas < 5:\n",
        "  precio = 80\n",
        "else:\n",
        "    if llantas == 5 or llantas ==7:\n",
        "        precio = 70\n",
        "    else:\n",
        "        precio = 60\n",
        "t = llantas*precio\n",
        "print('se tendria que pagar: ',t)"
      ],
      "metadata": {
        "colab": {
          "base_uri": "https://localhost:8080/"
        },
        "id": "kce9NyY8dj6h",
        "outputId": "9460b3f6-2447-4cdf-9d8f-329a5c538650"
      },
      "execution_count": null,
      "outputs": [
        {
          "output_type": "stream",
          "name": "stdout",
          "text": [
            "ingrese el numero de llantas6\n",
            "se tendria que pagar:  420\n"
          ]
        }
      ]
    },
    {
      "cell_type": "markdown",
      "source": [
        "Suponga que un corredor\n",
        "de seguros tiene que visitar tres clientes por día. El beneficio que le dan en la oficina por atender\n",
        "a un cliente en su domicilio es 60 soles durante su horario de trabajo. Si el ejecutivo no puede\n",
        "atender al cliente programado en su horario de trabajo ese día, sólo le darían un beneficio de 40\n",
        "soles por cada visita, pero con el compromiso de cumplir con las visitas restantes ese mismo día.\n",
        "El costo por visitar a un cliente es 20 soles (transporte, combustible, etc.). Realice el código en phyton que permita hallar la utilidad."
      ],
      "metadata": {
        "id": "yBUu5_VHx4w5"
      }
    },
    {
      "cell_type": "code",
      "source": [
        "# Total de clientes por día\n",
        "total_visitas = 3\n",
        "\n",
        "# Entrada de datos\n",
        "visitas_horario = int(input(\"Ingrese cuántas visitas se realizaron en horario laboral (0 a 3): \"))\n",
        "\n",
        "# Validación\n",
        "if visitas_horario < 0 or visitas_horario > 3:\n",
        "    print(\"Número inválido de visitas. Debe estar entre 0 y 3.\")\n",
        "else:\n",
        "    visitas_fuera = total_visitas - visitas_horario\n",
        "\n",
        "    # Cálculo de ingresos y costos\n",
        "    ingreso_horario = visitas_horario * 60\n",
        "    ingreso_fuera = visitas_fuera * 40\n",
        "    costo_total = total_visitas * 20\n",
        "\n",
        "    utilidad = ingreso_horario + ingreso_fuera - costo_total\n",
        "\n",
        "    # Resultados\n",
        "    print(f\"\\nVisitas en horario laboral: {visitas_horario}\")\n",
        "    print(f\"Visitas fuera de horario: {visitas_fuera}\")\n",
        "    print(f\"Ingreso total: S/.{ingreso_horario + ingreso_fuera}\")\n",
        "    print(f\"Costo total: S/.{costo_total}\")\n",
        "    print(f\"Utilidad del día: S/.{utilidad}\")"
      ],
      "metadata": {
        "colab": {
          "base_uri": "https://localhost:8080/"
        },
        "id": "ugMrsnXTzA1C",
        "outputId": "a58629e5-7e81-48da-e091-69fd2773f10f"
      },
      "execution_count": 26,
      "outputs": [
        {
          "output_type": "stream",
          "name": "stdout",
          "text": [
            "Ingrese cuántas visitas se realizaron en horario laboral (0 a 3): 2\n",
            "\n",
            "Visitas en horario laboral: 2\n",
            "Visitas fuera de horario: 1\n",
            "Ingreso total: S/.160\n",
            "Costo total: S/.60\n",
            "Utilidad del día: S/.100\n"
          ]
        }
      ]
    },
    {
      "cell_type": "markdown",
      "source": [],
      "metadata": {
        "id": "r4a8mHoO_DGG"
      }
    }
  ]
}