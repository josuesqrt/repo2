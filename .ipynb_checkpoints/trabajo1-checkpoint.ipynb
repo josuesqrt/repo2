{
 "cells": [
  {
   "cell_type": "markdown",
   "id": "e51b254b-006a-4243-83eb-6ad8081d90cf",
   "metadata": {},
   "source": [
    "Mi primer ejemplo "
   ]
  },
  {
   "cell_type": "code",
   "execution_count": 3,
   "id": "34bfaf8d-4016-41d5-8345-b8ba7abce75d",
   "metadata": {},
   "outputs": [
    {
     "name": "stdout",
     "output_type": "stream",
     "text": [
      "hola mundo\n",
      "bienvenidos\n"
     ]
    }
   ],
   "source": [
    "print(\"hola mundo\")\n",
    "print(\"bienvenidos\")"
   ]
  },
  {
   "cell_type": "code",
   "execution_count": 8,
   "id": "6ad8cc57-cf17-4fea-94b2-e7be3ccef8db",
   "metadata": {},
   "outputs": [],
   "source": [
    "def funcion(nombre):\n",
    "    s = \"bienvenido: \"\n",
    "    print(s + nombre)"
   ]
  },
  {
   "cell_type": "code",
   "execution_count": null,
   "id": "9829c714-b03a-4d24-a361-c1c3139a699d",
   "metadata": {},
   "outputs": [],
   "source": []
  },
  {
   "cell_type": "code",
   "execution_count": null,
   "id": "f58272a2-2c44-418c-aca5-bfa158295920",
   "metadata": {},
   "outputs": [],
   "source": []
  }
 ],
 "metadata": {
  "kernelspec": {
   "display_name": "Python 3 (ipykernel)",
   "language": "python",
   "name": "python3"
  },
  "language_info": {
   "codemirror_mode": {
    "name": "ipython",
    "version": 3
   },
   "file_extension": ".py",
   "mimetype": "text/x-python",
   "name": "python",
   "nbconvert_exporter": "python",
   "pygments_lexer": "ipython3",
   "version": "3.12.7"
  }
 },
 "nbformat": 4,
 "nbformat_minor": 5
}
